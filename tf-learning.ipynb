{
 "cells": [
  {
   "cell_type": "code",
   "execution_count": null,
   "metadata": {
    "collapsed": false
   },
   "outputs": [],
   "source": [
    "import tensorflow as tf\n",
    "import numpy as np\n",
    "# tf.InteractiveSession()\n",
    "a=tf.ones((2,2),dtype=tf.float32,name='zeros')\n",
    "b=tf.ones((2,2))\n",
    "tf.reduce_sum(a,reduction_indices=1).eval()\n",
    "tf.reduce_sum(b,reduction_indices=1).eval()"
   ]
  },
  {
   "cell_type": "code",
   "execution_count": null,
   "metadata": {},
   "outputs": [],
   "source": [
    ""
   ]
  },
  {
   "cell_type": "code",
   "execution_count": 16,
   "metadata": {},
   "outputs": [
    {
     "data": {
      "text/plain": [
       "array([ 2.,  2.], dtype=float32)"
      ]
     },
     "execution_count": 16,
     "metadata": {},
     "output_type": "execute_result"
    }
   ],
   "source": [
    "tf.reduce_sum(b,reduction_indices=1).eval()"
   ]
  },
  {
   "cell_type": "code",
   "execution_count": 18,
   "metadata": {},
   "outputs": [
    {
     "data": {
      "text/plain": [
       "TensorShape([Dimension(2), Dimension(2)])"
      ]
     },
     "execution_count": 18,
     "metadata": {},
     "output_type": "execute_result"
    }
   ],
   "source": [
    "# dir(a)\n",
    "a.get_shape()"
   ]
  },
  {
   "cell_type": "code",
   "execution_count": 21,
   "metadata": {},
   "outputs": [
    {
     "data": {
      "text/plain": [
       "array([[ 0.,  0.,  0.,  0.]], dtype=float32)"
      ]
     },
     "execution_count": 21,
     "metadata": {},
     "output_type": "execute_result"
    }
   ],
   "source": [
    "tf.reshape(a,(1,4)).eval()"
   ]
  },
  {
   "cell_type": "code",
   "execution_count": 23,
   "metadata": {},
   "outputs": [
    {
     "name": "stdout",
     "output_type": "stream",
     "text": [
      "Tensor(\"zeros_12:0\", shape=(2, 2), dtype=float32)\n"
     ]
    }
   ],
   "source": [
    "a=tf.zeros((2,2))\n",
    "print(a)"
   ]
  },
  {
   "cell_type": "code",
   "execution_count": 24,
   "metadata": {},
   "outputs": [
    {
     "name": "stdout",
     "output_type": "stream",
     "text": [
      "[[ 0.  0.]\n [ 0.  0.]]\n"
     ]
    }
   ],
   "source": [
    "print(a.eval())"
   ]
  },
  {
   "cell_type": "code",
   "execution_count": 27,
   "metadata": {},
   "outputs": [
    {
     "name": "stdout",
     "output_type": "stream",
     "text": [
      "2\n2\n"
     ]
    }
   ],
   "source": [
    "a=tf.constant(1)\n",
    "b=tf.constant(2)\n",
    "c=a*b\n",
    "with tf.Session() as sess:\n",
    "    print(c.eval())\n",
    "    print(sess.run(c))"
   ]
  },
  {
   "cell_type": "code",
   "execution_count": 44,
   "metadata": {},
   "outputs": [
    {
     "name": "stdout",
     "output_type": "stream",
     "text": [
      "[[-1.69036782 -0.41778001]\n [ 0.74713677 -0.42180467]]\n"
     ]
    }
   ],
   "source": [
    "rv=tf.Variable(tf.random_normal((2,2)),name='rand_var')#name no space\n",
    "with tf.Session() as sess:\n",
    "    sess.run(tf.global_variables_initializer())# var must initializer \n",
    "    print(sess.run(rv))\n",
    "\n",
    "        # \n",
    "\n",
    "    \n",
    "    # sess.run(tf.global_variables_initializer())"
   ]
  },
  {
   "cell_type": "code",
   "execution_count": 47,
   "metadata": {},
   "outputs": [
    {
     "name": "stdout",
     "output_type": "stream",
     "text": [
      "1\n2\n3\n4\n5\n"
     ]
    }
   ],
   "source": [
    "var_1=tf.Variable(0,name='var_1')\n",
    "add_op=tf.add(var_1,tf.constant(1))\n",
    "upd_op=tf.assign(var_1,add_op)\n",
    "with tf.Session() as sess:\n",
    "    sess.run(tf.global_variables_initializer())# var must initializer \n",
    "    for i in range(5):\n",
    "        print(sess.run(upd_op))\n",
    "        # print(sess.run([mul_x_y,final_op]))"
   ]
  },
  {
   "cell_type": "code",
   "execution_count": 53,
   "metadata": {},
   "outputs": [
    {
     "name": "stdout",
     "output_type": "stream",
     "text": [
      "WARNING:tensorflow:From /home/naruto/anaconda2/lib/python2.7/site-packages/tensorflow/python/util/tf_should_use.py:175: initialize_all_variables (from tensorflow.python.ops.variables) is deprecated and will be removed after 2017-03-02.\nInstructions for updating:\nUse `tf.global_variables_initializer` instead.\n"
     ]
    },
    {
     "name": "stdout",
     "output_type": "stream",
     "text": [
      "WARNING:tensorflow:Passing a `GraphDef` to the SummaryWriter is deprecated. Pass a `Graph` object instead, such as `sess.graph`.\n"
     ]
    },
    {
     "name": "stdout",
     "output_type": "stream",
     "text": [
      "('prediction:', array([[ 0.45226488],\n       [ 0.45106032],\n       [ 0.4413617 ],\n       [ 0.43973646]], dtype=float32))\n('Weights from input to hidden layer:', array([[ 0.02618782,  0.33743128],\n       [ 0.13070035, -0.12774344]], dtype=float32))\n('Bias in the hidden layer:', array([ 0.96141601,  0.70862335], dtype=float32))\n('Weights from hidden layer to output layer:', array([[-0.83753651],\n       [-0.56852025]], dtype=float32))\n('Bias in the output layer:', array([ 0.79531807], dtype=float32))\n('Cost:', 0.69883907)\n"
     ]
    },
    {
     "name": "stdout",
     "output_type": "stream",
     "text": [
      "('prediction:', array([[ 0.50436771],\n       [ 0.50410062],\n       [ 0.49545571],\n       [ 0.49468878]], dtype=float32))\n('Weights from input to hidden layer:', array([[ 0.00358304,  0.33750454],\n       [ 0.12147013, -0.15015963]], dtype=float32))\n('Bias in the hidden layer:', array([ 0.94528109,  0.69900477], dtype=float32))\n('Weights from hidden layer to output layer:', array([[-0.76074642],\n       [-0.49993724]], dtype=float32))\n('Bias in the output layer:', array([ 0.8992759], dtype=float32))\n('Cost:', 0.69293964)\n"
     ]
    },
    {
     "name": "stdout",
     "output_type": "stream",
     "text": [
      "('prediction:', array([[ 0.50423801],\n       [ 0.50446135],\n       [ 0.4956578 ],\n       [ 0.49528527]], dtype=float32))\n('Weights from input to hidden layer:', array([[-0.01034695,  0.34402433],\n       [ 0.12157366, -0.16612476]], dtype=float32))\n('Bias in the hidden layer:', array([ 0.94520718,  0.70130038], dtype=float32))\n('Weights from hidden layer to output layer:', array([[-0.75986761],\n       [-0.50293732]], dtype=float32))\n('Bias in the output layer:', array([ 0.90037268], dtype=float32))\n('Cost:', 0.69288874)\n"
     ]
    },
    {
     "name": "stdout",
     "output_type": "stream",
     "text": [
      "('prediction:', array([[ 0.50387412],\n       [ 0.50455606],\n       [ 0.49558467],\n       [ 0.49556822]], dtype=float32))\n('Weights from input to hidden layer:', array([[-0.02418809,  0.35158977],\n       [ 0.12306068, -0.18226102]], dtype=float32))\n('Bias in the hidden layer:', array([ 0.94520718,  0.70375305], dtype=float32))\n('Weights from hidden layer to output layer:', array([[-0.75931305],\n       [-0.50672418]], dtype=float32))\n('Bias in the output layer:', array([ 0.90132439], dtype=float32))\n('Cost:', 0.69283539)\n"
     ]
    },
    {
     "name": "stdout",
     "output_type": "stream",
     "text": [
      "('prediction:', array([[ 0.50350934],\n       [ 0.50462216],\n       [ 0.49548468],\n       [ 0.49578771]], dtype=float32))\n('Weights from input to hidden layer:', array([[-0.03811112,  0.36018211],\n       [ 0.12586668, -0.19864723]], dtype=float32))\n('Bias in the hidden layer:', array([ 0.94520718,  0.70673329], dtype=float32))\n('Weights from hidden layer to output layer:', array([[-0.758717 ],\n       [-0.5108965]], dtype=float32))\n('Bias in the output layer:', array([ 0.90256453], dtype=float32))\n('Cost:', 0.69277817)\n"
     ]
    },
    {
     "name": "stdout",
     "output_type": "stream",
     "text": [
      "('prediction:', array([[ 0.50317848],\n       [ 0.50470006],\n       [ 0.49539074],\n       [ 0.49597993]], dtype=float32))\n('Weights from input to hidden layer:', array([[-0.05223458,  0.36985937],\n       [ 0.12999259, -0.21535259]], dtype=float32))\n('Bias in the hidden layer:', array([ 0.94520718,  0.70978492], dtype=float32))\n('Weights from hidden layer to output layer:', array([[-0.75813472],\n       [-0.51560199]], dtype=float32))\n('Bias in the output layer:', array([ 0.9043206], dtype=float32))\n('Cost:', 0.69271576)\n"
     ]
    },
    {
     "name": "stdout",
     "output_type": "stream",
     "text": [
      "('prediction:', array([[ 0.5028668 ],\n       [ 0.50477791],\n       [ 0.49529597],\n       [ 0.49613789]], dtype=float32))\n('Weights from input to hidden layer:', array([[-0.06668385,  0.38066012],\n       [ 0.13543867, -0.23246948]], dtype=float32))\n('Bias in the hidden layer:', array([ 0.94520718,  0.7133612 ], dtype=float32))\n('Weights from hidden layer to output layer:', array([[-0.75754702],\n       [-0.52070963]], dtype=float32))\n('Bias in the output layer:', array([ 0.90648603], dtype=float32))\n('Cost:', 0.69264662)\n"
     ]
    },
    {
     "name": "stdout",
     "output_type": "stream",
     "text": [
      "('prediction:', array([[ 0.50256854],\n       [ 0.50485504],\n       [ 0.49519411],\n       [ 0.49625728]], dtype=float32))\n('Weights from input to hidden layer:', array([[-0.08157626,  0.39264044],\n       [ 0.14222829, -0.25007036]], dtype=float32))\n('Bias in the hidden layer:', array([ 0.94520718,  0.71719891], dtype=float32))\n('Weights from hidden layer to output layer:', array([[-0.75697035],\n       [-0.52632946]], dtype=float32))\n('Bias in the output layer:', array([ 0.90909469], dtype=float32))\n('Cost:', 0.69256914)\n"
     ]
    },
    {
     "name": "stdout",
     "output_type": "stream",
     "text": [
      "('prediction:', array([[ 0.50228244],\n       [ 0.50493485],\n       [ 0.4950861 ],\n       [ 0.49633986]], dtype=float32))\n('Weights from input to hidden layer:', array([[-0.09703336,  0.40587032],\n       [ 0.15038928, -0.26823857]], dtype=float32))\n('Bias in the hidden layer:', array([ 0.94520718,  0.72137368], dtype=float32))\n('Weights from hidden layer to output layer:', array([[-0.75649351],\n       [-0.53251982]], dtype=float32))\n('Bias in the output layer:', array([ 0.91225642], dtype=float32))\n('Cost:', 0.6924814)\n"
     ]
    },
    {
     "name": "stdout",
     "output_type": "stream",
     "text": [
      "('prediction:', array([[ 0.50200456],\n       [ 0.50501704],\n       [ 0.49497116],\n       [ 0.49638408]], dtype=float32))\n('Weights from input to hidden layer:', array([[-0.11317848,  0.42043981],\n       [ 0.15996957, -0.28706014]], dtype=float32))\n('Bias in the hidden layer:', array([ 0.94520718,  0.72614205], dtype=float32))\n('Weights from hidden layer to output layer:', array([[-0.75613707],\n       [-0.53931141]], dtype=float32))\n('Bias in the output layer:', array([ 0.91602385], dtype=float32))\n('Cost:', 0.69238114)\n"
     ]
    },
    {
     "name": "stdout",
     "output_type": "stream",
     "text": [
      "('Final Prediction', array([[ 0.50172997],\n       [ 0.50510269],\n       [ 0.49484649],\n       [ 0.49638826]], dtype=float32))\n"
     ]
    }
   ],
   "source": [
    "x_=tf.placeholder(tf.float32,shape=[4,2],name='x-input')\n",
    "y_=tf.placeholder(tf.float32,shape=[4,1],name='y-input')\n",
    "w1=tf.Variable(tf.random_uniform([2,2],-1,1),name='w1')\n",
    "w2=tf.Variable(tf.random_uniform([2,1],-1,1),name='w2')\n",
    "b1=tf.Variable(tf.random_uniform([2]),name='b1')\n",
    "b2=tf.Variable(tf.random_uniform([1]),name='b2')\n",
    "z2=tf.sigmoid(tf.matmul(x_,w1)+b1)\n",
    "pred=tf.sigmoid(tf.matmul(z2,w2)+b2)\n",
    "cost=tf.reduce_mean(((y_*tf.log(pred))+((1-y_)*tf.log(1-pred)))*-1)\n",
    "learning_rate=0.001;\n",
    "train_step=tf.train.GradientDescentOptimizer(learning_rate).minimize(cost)\n",
    "XOR_X=[[0,0],[0,1],[1,0],[1,1]]\n",
    "YOR_Y=[[0],[1],[1],[0]]\n",
    "init=tf.global_variables_initializer()\n",
    "sess=tf.Session()\n",
    "writer=tf.summary.FileWriter(\"./Downloads/XOR1_ligs\",sess.graph)\n",
    "sess.run(init)\n",
    "for i in range(100000):\n",
    "    sess.run(train_step,feed_dict={x_:XOR_X,y_:YOR_Y})\n",
    "    if i %10000==0:\n",
    "        print('prediction:',sess.run(pred,feed_dict={x_:XOR_X,y_:YOR_Y}))\n",
    "        print('Weights from input to hidden layer:', sess.run(w1))\n",
    "        print('Bias in the hidden layer:', sess.run(b1))\n",
    "        print('Weights from hidden layer to output layer:', sess.run(w2))\n",
    "        print('Bias in the output layer:', sess.run(b2))\n",
    "        print('Cost:', sess.run(cost, feed_dict={x_: XOR_X, y_: YOR_Y}))\n",
    "print('Final Prediction', sess.run(pred, feed_dict={x_: XOR_X, y_: YOR_Y}))"
   ]
  },
  {
   "cell_type": "code",
   "execution_count": null,
   "metadata": {},
   "outputs": [],
   "source": [
    ""
   ]
  }
 ],
 "metadata": {
  "kernelspec": {
   "display_name": "Python 2",
   "language": "python",
   "name": "python2"
  },
  "language_info": {
   "codemirror_mode": {
    "name": "ipython",
    "version": 2
   },
   "file_extension": ".py",
   "mimetype": "text/x-python",
   "name": "python",
   "nbconvert_exporter": "python",
   "pygments_lexer": "ipython2",
   "version": "2.7.6"
  }
 },
 "nbformat": 4,
 "nbformat_minor": 0
}
